{
 "cells": [
  {
   "cell_type": "code",
   "execution_count": 2,
   "metadata": {
    "collapsed": true
   },
   "outputs": [],
   "source": [
    "import pandas as pd\n",
    "import numpy as np\n",
    "from sklearn.discriminant_analysis import LinearDiscriminantAnalysis\n",
    "from sklearn.model_selection import train_test_split\n",
    "from sklearn.metrics import confusion_matrix\n",
    "import matplotlib.pyplot as plt\n",
    "import scikitplot as skplt\n",
    "from sklearn.linear_model import LogisticRegression\n",
    "\n",
    "raw_data = pd.read_excel(\"Universalbank_1500.xlsx\")\n",
    "ub_df = pd.DataFrame(raw_data)\n",
    "ub_df = ub_df.drop([\"ZIP Code\", \"ID\"], axis=1)\n",
    "pd.set_option('display.max_rows', None)\n",
    "pd.set_option('display.max_columns', None)"
   ]
  },
  {
   "cell_type": "code",
   "execution_count": 3,
   "outputs": [
    {
     "ename": "NameError",
     "evalue": "name 'X' is not defined",
     "output_type": "error",
     "traceback": [
      "\u001B[1;31m---------------------------------------------------------------------------\u001B[0m",
      "\u001B[1;31mNameError\u001B[0m                                 Traceback (most recent call last)",
      "\u001B[1;32m~\\AppData\\Local\\Temp/ipykernel_1080/1374871738.py\u001B[0m in \u001B[0;36m<module>\u001B[1;34m\u001B[0m\n\u001B[0;32m      1\u001B[0m \u001B[0mmodel\u001B[0m \u001B[1;33m=\u001B[0m \u001B[0mLinearDiscriminantAnalysis\u001B[0m\u001B[1;33m(\u001B[0m\u001B[1;33m)\u001B[0m\u001B[1;33m\u001B[0m\u001B[1;33m\u001B[0m\u001B[0m\n\u001B[1;32m----> 2\u001B[1;33m \u001B[0mmodel\u001B[0m\u001B[1;33m.\u001B[0m\u001B[0mfit\u001B[0m\u001B[1;33m(\u001B[0m\u001B[0mX\u001B[0m\u001B[1;33m,\u001B[0m \u001B[0my\u001B[0m\u001B[1;33m)\u001B[0m\u001B[1;33m\u001B[0m\u001B[1;33m\u001B[0m\u001B[0m\n\u001B[0m\u001B[0;32m      3\u001B[0m \u001B[1;32mreturn\u001B[0m \u001B[0mmodel\u001B[0m\u001B[1;33m\u001B[0m\u001B[1;33m\u001B[0m\u001B[0m\n",
      "\u001B[1;31mNameError\u001B[0m: name 'X' is not defined"
     ]
    }
   ],
   "source": [
    "\n",
    "model = LinearDiscriminantAnalysis()\n",
    "model.fit(X, y)\n",
    "return model"
   ],
   "metadata": {
    "collapsed": false,
    "pycharm": {
     "name": "#%%\n"
    }
   }
  },
  {
   "cell_type": "code",
   "execution_count": null,
   "outputs": [],
   "source": [
    "\n",
    "model = LogisticRegression(multi_class='multinomial', solver='lbfgs')\n",
    "model.fit(X, y)\n",
    "return model"
   ],
   "metadata": {
    "collapsed": false,
    "pycharm": {
     "name": "#%%\n"
    }
   }
  },
  {
   "cell_type": "code",
   "execution_count": null,
   "outputs": [],
   "source": [
    "for colname, coldata in X.iteritems():\n",
    "    if sorted(coldata.unique()) != [0, 1]:\n",
    "        output = \" Mean of {}: {}\\n Standard Deviation of {}: {}\".format(colname, coldata.mean(), colname,\n",
    "                                                                         coldata.std())\n",
    "        print(output)\n",
    "    else:\n",
    "        prob = coldata.value_counts()[1] / len(coldata)\n",
    "        output = \" Probability of accepting loan if {} is True: {}\".format(colname, prob)\n",
    "        print(output)"
   ],
   "metadata": {
    "collapsed": false,
    "pycharm": {
     "name": "#%%\n"
    }
   }
  },
  {
   "cell_type": "code",
   "execution_count": null,
   "outputs": [],
   "source": [
    "cols = X.drop(\"Personal Loan\", axis=1).columns\n",
    "sum1 = pd.DataFrame(columns=cols)\n",
    "sum0 = pd.DataFrame(columns=cols)\n",
    "s1, s2 = 0, 0\n",
    "for i, row in X.iterrows():\n",
    "    if row[\"Personal Loan\"] == 1:\n",
    "        sum1.loc[s1] = row.drop(\"Personal Loan\")\n",
    "        s1 += 1\n",
    "    else:\n",
    "        sum0.loc[s2] = row.drop(\"Personal Loan\")\n",
    "        s2 += 1\n",
    "print(\"For accepted Personal Loan: \")\n",
    "computesummary(sum1)\n",
    "print(\"For rejected Personal Loan: \")\n",
    "computesummary(sum0)"
   ],
   "metadata": {
    "collapsed": false,
    "pycharm": {
     "name": "#%%\n"
    }
   }
  },
  {
   "cell_type": "code",
   "execution_count": null,
   "outputs": [],
   "source": [
    "computeaccuracy(y, y_p):\n",
    "c = confusion_matrix(y, y_p).ravel()\n",
    "tp, tn, fp, fn = c\n",
    "acc = (tp + tn) / (tp + tn + fp + fn)\n",
    "# print(\"False Positive: \", fp)\n",
    "# print(\"False Negative: \", fn)\n",
    "return acc, c"
   ],
   "metadata": {
    "collapsed": false,
    "pycharm": {
     "name": "#%%\n"
    }
   }
  },
  {
   "cell_type": "code",
   "execution_count": null,
   "outputs": [],
   "source": [
    "liftChart(predicted, title='Decile Lift Chart', labelBars=True, ax=None, figsize=None):\n",
    "groups = [int(10 * i / len(predicted)) for i in\n",
    "          range(len(predicted))]\n",
    "meanPercentile = predicted.groupby(groups).mean()\n",
    "meanResponse = meanPercentile / predicted.mean()\n",
    "meanResponse.index = (meanResponse.index + 1) * 10\n",
    "ax = meanResponse.plot.bar(color='C0', ax=ax,\n",
    "                           figsize=figsize)\n",
    "ax.set_ylim(0, 1.12 * meanResponse.max() if labelBars else None)\n",
    "ax.set_xlabel('Percentile')\n",
    "ax.set_ylabel('Lift')\n",
    "if title:\n",
    "    ax.set_title(title)\n",
    "if labelBars:\n",
    "    for p in ax.patches:\n",
    "        ax.annotate('{:.1f}'.format(p.get_height()),\n",
    "                    (p.get_x(), p.get_height() + 0.1))\n",
    "return ax"
   ],
   "metadata": {
    "collapsed": false,
    "pycharm": {
     "name": "#%%\n"
    }
   }
  },
  {
   "cell_type": "code",
   "execution_count": null,
   "outputs": [],
   "source": [
    "y = ub_df[\"Personal Loan\"]\n",
    "X = ub_df.drop([\"Personal Loan\"], axis=1)\n",
    "X_train, X_val, y_train, y_val = train_test_split(X, y, test_size=0.4)\n",
    "# Part A\n",
    "# summary(ub_df)\n",
    "lda_model = lda(X_train, y_train)\n",
    "X_val = X_val.reset_index(drop=True)\n",
    "y_val = y_val.reset_index(drop=True)\n",
    "y_pred = lda_model.predict(X_val)\n",
    "prob = lda_model.predict_proba(X_val)\n",
    "# Part B\n",
    "accuracy,c_lda = computeaccuracy(y_val, y_pred)\n",
    "output = \"The Accuracy of model on Validation Set: {}\".format(accuracy)\n",
    "# print(output)\n",
    "y_pred = pd.Series(y_pred, name=\"Prediciton\")\n",
    "result = X_val.join(y_pred)\n",
    "result = result.join(y_val)\n",
    "for i, r in result.iterrows():\n",
    "    if r[11] != r[12]:\n",
    "        if r[11] == 1:\n",
    "            print(\"Observation: \", i, \"Missclassified as Non: \", prob[i])\n",
    "        else:\n",
    "            print(\"Observation: \", i, \"Missclassified as Acceptor: \", prob[i])\n",
    "# Part C\n",
    "probs = pd.Series(prob[:, 1]).sort_values(ascending=False)\n",
    "liftChart(probs)\n",
    "plt.show()\n",
    "skplt.metrics.plot_cumulative_gain(y_val, prob)\n",
    "plt.show()\n",
    "\n",
    "# Part D\n",
    "log_reg = logregress(X_train, y_train)\n",
    "y_pred_log = log_reg.predict(X_val)\n",
    "acc, c_lg = computeaccuracy(y_val, y_pred_log)\n",
    "probs_log = log_reg.predict_proba(X_val)\n",
    "prob_log = pd.Series(probs_log[:, 1]).sort_values(ascending=False)\n",
    "liftChart(prob_log)\n",
    "plt.show()\n",
    "skplt.metrics.plot_cumulative_gain(y_val, probs_log)\n",
    "plt.show()\n",
    "print(\"Confusion Matrix for LDA: \", c_lda)\n",
    "print(\"Confucion matrix for LG: \", c_lg)"
   ],
   "metadata": {
    "collapsed": false,
    "pycharm": {
     "name": "#%%\n"
    }
   }
  }
 ],
 "metadata": {
  "kernelspec": {
   "display_name": "Python 3",
   "language": "python",
   "name": "python3"
  },
  "language_info": {
   "codemirror_mode": {
    "name": "ipython",
    "version": 2
   },
   "file_extension": ".py",
   "mimetype": "text/x-python",
   "name": "python",
   "nbconvert_exporter": "python",
   "pygments_lexer": "ipython2",
   "version": "2.7.6"
  }
 },
 "nbformat": 4,
 "nbformat_minor": 0
}