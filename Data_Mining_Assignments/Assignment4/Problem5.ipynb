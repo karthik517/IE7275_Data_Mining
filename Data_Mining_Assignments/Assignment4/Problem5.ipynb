{
 "cells": [
  {
   "cell_type": "code",
   "execution_count": null,
   "id": "0761f007",
   "metadata": {},
   "outputs": [],
   "source": [
    "import pandas as pd\n",
    "\n",
    "df = pd.read_csv(\"Cereals.csv\")\n",
    "df.head()"
   ]
  },
  {
   "cell_type": "code",
   "execution_count": null,
   "id": "d41be638",
   "metadata": {},
   "outputs": [],
   "source": [
    "#checking which columns have missing values\n",
    "df.isnull().sum()"
   ]
  },
  {
   "cell_type": "code",
   "execution_count": null,
   "id": "69794ef9",
   "metadata": {},
   "outputs": [],
   "source": [
    "# dropping missing values\n",
    "df = df.dropna(axis = 0)"
   ]
  },
  {
   "cell_type": "code",
   "execution_count": null,
   "id": "a8eee2a5",
   "metadata": {},
   "outputs": [],
   "source": [
    "#checking if missing values are dropped\n",
    "df.isnull().sum()"
   ]
  },
  {
   "cell_type": "code",
   "execution_count": null,
   "id": "ee64ead6",
   "metadata": {},
   "outputs": [],
   "source": [
    "from sklearn.cluster import KMeans\n",
    "import numpy as np\n",
    "from sklearn import datasets\n",
    "import scipy.cluster.hierarchy as shc\n",
    "from sklearn.cluster import AgglomerativeClustering\n",
    "import matplotlib.pyplot as plt\n",
    "from sklearn.preprocessing import normalize"
   ]
  },
  {
   "cell_type": "code",
   "execution_count": null,
   "id": "7cd298ef",
   "metadata": {},
   "outputs": [
    {
     "ename": "NameError",
     "evalue": "name 'df' is not defined",
     "output_type": "error",
     "traceback": [
      "\u001B[1;31m---------------------------------------------------------------------------\u001B[0m",
      "\u001B[1;31mNameError\u001B[0m                                 Traceback (most recent call last)",
      "\u001B[1;32m~\\AppData\\Local\\Temp/ipykernel_27744/2838565310.py\u001B[0m in \u001B[0;36m<module>\u001B[1;34m\u001B[0m\n\u001B[1;32m----> 1\u001B[1;33m \u001B[0mdf\u001B[0m\u001B[1;33m[\u001B[0m\u001B[1;34m\"calories\"\u001B[0m\u001B[1;33m]\u001B[0m\u001B[1;33m.\u001B[0m\u001B[0mdescribe\u001B[0m\u001B[1;33m(\u001B[0m\u001B[1;33m)\u001B[0m\u001B[1;33m\u001B[0m\u001B[1;33m\u001B[0m\u001B[0m\n\u001B[0m\u001B[0;32m      2\u001B[0m \u001B[1;33m\u001B[0m\u001B[0m\n",
      "\u001B[1;31mNameError\u001B[0m: name 'df' is not defined"
     ]
    }
   ],
   "source": [
    "df[\"calories\"].describe()\n"
   ]
  },
  {
   "cell_type": "code",
   "execution_count": null,
   "id": "ed4b61fd",
   "metadata": {},
   "outputs": [],
   "source": [
    "df.columns"
   ]
  },
  {
   "cell_type": "code",
   "execution_count": null,
   "id": "37c09f47",
   "metadata": {},
   "outputs": [],
   "source": [
    "df_scaled = df.copy()"
   ]
  },
  {
   "cell_type": "code",
   "execution_count": null,
   "id": "5b54834c",
   "metadata": {},
   "outputs": [],
   "source": [
    "df_with_non_norm_variables = df.drop(columns = ['calories', 'protein', 'fat', 'sodium', 'fiber','carbo', 'sugars', 'potass', 'weight', 'cups',\n",
    "       'rating'])\n",
    "\n",
    "df_with_non_norm_variables"
   ]
  },
  {
   "cell_type": "code",
   "execution_count": null,
   "id": "62bd136c",
   "metadata": {},
   "outputs": [],
   "source": [
    "\n",
    "#removing columns which do not require normalizing\n",
    "\n",
    "df_scaled = df_scaled.drop(columns = ['name', 'mfr', 'type', 'vitamins', 'shelf'])\n",
    "df_scaled"
   ]
  },
  {
   "cell_type": "code",
   "execution_count": null,
   "id": "e84a20bc",
   "metadata": {},
   "outputs": [],
   "source": [
    "df_scaled.columns"
   ]
  },
  {
   "cell_type": "code",
   "execution_count": null,
   "id": "1c90c912",
   "metadata": {},
   "outputs": [],
   "source": [
    "df_scaled['protein'] = (df_scaled['protein']- df_scaled['protein'].min()) / (df_scaled['protein'].max() - df_scaled['protein'].min()) "
   ]
  },
  {
   "cell_type": "code",
   "execution_count": null,
   "id": "b9d14b90",
   "metadata": {},
   "outputs": [],
   "source": [
    "df_scaled['calories'] = (df_scaled['calories']- df_scaled['calories'].min()) / (df_scaled['calories'].max() - df_scaled['calories'].min()) "
   ]
  },
  {
   "cell_type": "code",
   "execution_count": null,
   "id": "55e4ea7f",
   "metadata": {},
   "outputs": [],
   "source": [
    "df_scaled['fat'] = (df_scaled['fat']- df_scaled['fat'].min()) / (df_scaled['fat'].max() - df_scaled['fat'].min()) "
   ]
  },
  {
   "cell_type": "code",
   "execution_count": null,
   "id": "1dee6f72",
   "metadata": {},
   "outputs": [],
   "source": [
    "df_scaled['sodium'] = (df_scaled['sodium']- df_scaled['sodium'].min()) / (df_scaled['sodium'].max() - df_scaled['sodium'].min()) "
   ]
  },
  {
   "cell_type": "code",
   "execution_count": null,
   "id": "683cfa47",
   "metadata": {},
   "outputs": [],
   "source": [
    "df_scaled['fiber'] = (df_scaled['fiber']- df_scaled['fiber'].min()) / (df_scaled['fiber'].max() - df_scaled['fiber'].min()) "
   ]
  },
  {
   "cell_type": "code",
   "execution_count": null,
   "id": "7b7cc217",
   "metadata": {},
   "outputs": [],
   "source": [
    "df_scaled['carbo'] = (df_scaled['carbo']- df_scaled['carbo'].min()) / (df_scaled['carbo'].max() - df_scaled['carbo'].min()) "
   ]
  },
  {
   "cell_type": "code",
   "execution_count": null,
   "id": "34103e19",
   "metadata": {},
   "outputs": [],
   "source": [
    "df_scaled['sugars'] = (df_scaled['sugars']- df_scaled['sugars'].min()) / (df_scaled['sugars'].max() - df_scaled['sugars'].min()) "
   ]
  },
  {
   "cell_type": "code",
   "execution_count": null,
   "id": "77fcfb77",
   "metadata": {},
   "outputs": [],
   "source": [
    "df_scaled['potass'] = (df_scaled['potass']- df_scaled['potass'].min()) / (df_scaled['potass'].max() - df_scaled['potass'].min()) "
   ]
  },
  {
   "cell_type": "code",
   "execution_count": null,
   "id": "813934bd",
   "metadata": {},
   "outputs": [],
   "source": [
    "df_scaled['weight'] = (df_scaled['weight']- df_scaled['weight'].min()) / (df_scaled['weight'].max() - df_scaled['weight'].min()) "
   ]
  },
  {
   "cell_type": "code",
   "execution_count": null,
   "id": "c7049221",
   "metadata": {},
   "outputs": [],
   "source": [
    "df_scaled['cups'] = (df_scaled['cups']- df_scaled['cups'].min()) / (df_scaled['cups'].max() - df_scaled['cups'].min()) "
   ]
  },
  {
   "cell_type": "code",
   "execution_count": null,
   "id": "80d142e9",
   "metadata": {},
   "outputs": [],
   "source": [
    "df_scaled['rating'] = (df_scaled['rating']- df_scaled['rating'].min()) / (df_scaled['rating'].max() - df_scaled['rating'].min()) "
   ]
  },
  {
   "cell_type": "code",
   "execution_count": null,
   "id": "67b68969",
   "metadata": {},
   "outputs": [],
   "source": [
    "df_scaled.head()"
   ]
  },
  {
   "cell_type": "code",
   "execution_count": null,
   "id": "4b81d60c",
   "metadata": {},
   "outputs": [],
   "source": [
    "#looking at the dendogram for normalized data usin g single method\n",
    "plt.figure(figsize=(20, 10))\n",
    "plt.title(\"Dendrogram for normalized data using single method\")\n",
    "dendrogram_with_single = shc.dendrogram(shc.linkage(df_scaled, method='single'))\n",
    "plt.axhline(y=6, color='b', linestyle='--')"
   ]
  },
  {
   "cell_type": "code",
   "execution_count": null,
   "id": "ab6d26af",
   "metadata": {},
   "outputs": [],
   "source": [
    "#performing clustering with single method\n",
    "cluster_1 = AgglomerativeClustering(n_clusters=2, affinity='euclidean', linkage='single')\n",
    "clf_1 = cluster_1.fit_predict(df_scaled)"
   ]
  },
  {
   "cell_type": "code",
   "execution_count": null,
   "id": "bd8c78df",
   "metadata": {},
   "outputs": [],
   "source": [
    "#looking at the dendogram for normalized data using complete method\n",
    "plt.figure(figsize=(20, 10))\n",
    "plt.title(\"Dendrograms for normalized data using complete method\")\n",
    "dendrogram_with_complete = shc.dendrogram(shc.linkage(df_scaled, method='complete'))\n",
    "plt.axhline(y=1, color='k', linestyle='--')\n",
    "plt.show()"
   ]
  },
  {
   "cell_type": "code",
   "execution_count": null,
   "id": "296410e4",
   "metadata": {},
   "outputs": [],
   "source": [
    "#performing clustering using complete method\n",
    "cluster_2 = AgglomerativeClustering(n_clusters=2, affinity='euclidean', linkage='complete')\n",
    "clf_2 = cluster_2.fit_predict(df_scaled)"
   ]
  },
  {
   "cell_type": "code",
   "execution_count": null,
   "id": "a7c922ce",
   "metadata": {},
   "outputs": [],
   "source": [
    "#computing cluster-1 centriods\n",
    "df_scaled.groupby(clf_1).mean()\n"
   ]
  },
  {
   "cell_type": "code",
   "execution_count": null,
   "id": "3d21fd42",
   "metadata": {},
   "outputs": [],
   "source": [
    "#computing cluster-2 centriods\n",
    "df_scaled.groupby(clf_2).mean()"
   ]
  },
  {
   "cell_type": "code",
   "execution_count": null,
   "id": "a8d5af2d",
   "metadata": {},
   "outputs": [],
   "source": []
  }
 ],
 "metadata": {
  "kernelspec": {
   "display_name": "Python 3 (ipykernel)",
   "language": "python",
   "name": "python3"
  },
  "language_info": {
   "codemirror_mode": {
    "name": "ipython",
    "version": 3
   },
   "file_extension": ".py",
   "mimetype": "text/x-python",
   "name": "python",
   "nbconvert_exporter": "python",
   "pygments_lexer": "ipython3",
   "version": "3.8.11"
  }
 },
 "nbformat": 4,
 "nbformat_minor": 5
}