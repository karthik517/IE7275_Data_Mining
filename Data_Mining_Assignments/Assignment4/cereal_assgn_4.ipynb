{
 "cells": [
  {
   "cell_type": "code",
   "execution_count": 58,
   "id": "0761f007",
   "metadata": {},
   "outputs": [
    {
     "data": {
      "text/plain": "                        name mfr type  calories  protein  fat  sodium  fiber  \\\n0                  100%_Bran   N    C        70        4    1     130   10.0   \n1          100%_Natural_Bran   Q    C       120        3    5      15    2.0   \n2                   All-Bran   K    C        70        4    1     260    9.0   \n3  All-Bran_with_Extra_Fiber   K    C        50        4    0     140   14.0   \n4             Almond_Delight   R    C       110        2    2     200    1.0   \n\n   carbo  sugars  potass  vitamins  shelf  weight  cups     rating  \n0    5.0     6.0   280.0        25      3     1.0  0.33  68.402973  \n1    8.0     8.0   135.0         0      3     1.0  1.00  33.983679  \n2    7.0     5.0   320.0        25      3     1.0  0.33  59.425505  \n3    8.0     0.0   330.0        25      3     1.0  0.50  93.704912  \n4   14.0     8.0     NaN        25      3     1.0  0.75  34.384843  ",
      "text/html": "<div>\n<style scoped>\n    .dataframe tbody tr th:only-of-type {\n        vertical-align: middle;\n    }\n\n    .dataframe tbody tr th {\n        vertical-align: top;\n    }\n\n    .dataframe thead th {\n        text-align: right;\n    }\n</style>\n<table border=\"1\" class=\"dataframe\">\n  <thead>\n    <tr style=\"text-align: right;\">\n      <th></th>\n      <th>name</th>\n      <th>mfr</th>\n      <th>type</th>\n      <th>calories</th>\n      <th>protein</th>\n      <th>fat</th>\n      <th>sodium</th>\n      <th>fiber</th>\n      <th>carbo</th>\n      <th>sugars</th>\n      <th>potass</th>\n      <th>vitamins</th>\n      <th>shelf</th>\n      <th>weight</th>\n      <th>cups</th>\n      <th>rating</th>\n    </tr>\n  </thead>\n  <tbody>\n    <tr>\n      <th>0</th>\n      <td>100%_Bran</td>\n      <td>N</td>\n      <td>C</td>\n      <td>70</td>\n      <td>4</td>\n      <td>1</td>\n      <td>130</td>\n      <td>10.0</td>\n      <td>5.0</td>\n      <td>6.0</td>\n      <td>280.0</td>\n      <td>25</td>\n      <td>3</td>\n      <td>1.0</td>\n      <td>0.33</td>\n      <td>68.402973</td>\n    </tr>\n    <tr>\n      <th>1</th>\n      <td>100%_Natural_Bran</td>\n      <td>Q</td>\n      <td>C</td>\n      <td>120</td>\n      <td>3</td>\n      <td>5</td>\n      <td>15</td>\n      <td>2.0</td>\n      <td>8.0</td>\n      <td>8.0</td>\n      <td>135.0</td>\n      <td>0</td>\n      <td>3</td>\n      <td>1.0</td>\n      <td>1.00</td>\n      <td>33.983679</td>\n    </tr>\n    <tr>\n      <th>2</th>\n      <td>All-Bran</td>\n      <td>K</td>\n      <td>C</td>\n      <td>70</td>\n      <td>4</td>\n      <td>1</td>\n      <td>260</td>\n      <td>9.0</td>\n      <td>7.0</td>\n      <td>5.0</td>\n      <td>320.0</td>\n      <td>25</td>\n      <td>3</td>\n      <td>1.0</td>\n      <td>0.33</td>\n      <td>59.425505</td>\n    </tr>\n    <tr>\n      <th>3</th>\n      <td>All-Bran_with_Extra_Fiber</td>\n      <td>K</td>\n      <td>C</td>\n      <td>50</td>\n      <td>4</td>\n      <td>0</td>\n      <td>140</td>\n      <td>14.0</td>\n      <td>8.0</td>\n      <td>0.0</td>\n      <td>330.0</td>\n      <td>25</td>\n      <td>3</td>\n      <td>1.0</td>\n      <td>0.50</td>\n      <td>93.704912</td>\n    </tr>\n    <tr>\n      <th>4</th>\n      <td>Almond_Delight</td>\n      <td>R</td>\n      <td>C</td>\n      <td>110</td>\n      <td>2</td>\n      <td>2</td>\n      <td>200</td>\n      <td>1.0</td>\n      <td>14.0</td>\n      <td>8.0</td>\n      <td>NaN</td>\n      <td>25</td>\n      <td>3</td>\n      <td>1.0</td>\n      <td>0.75</td>\n      <td>34.384843</td>\n    </tr>\n  </tbody>\n</table>\n</div>"
     },
     "execution_count": 58,
     "metadata": {},
     "output_type": "execute_result"
    }
   ],
   "source": [
    "import pandas as pd\n",
    "\n",
    "df = pd.read_csv(\"Cereals.csv\")\n",
    "df.head()"
   ]
  },
  {
   "cell_type": "code",
   "execution_count": 59,
   "id": "d41be638",
   "metadata": {},
   "outputs": [
    {
     "data": {
      "text/plain": "name        0\nmfr         0\ntype        0\ncalories    0\nprotein     0\nfat         0\nsodium      0\nfiber       0\ncarbo       1\nsugars      1\npotass      2\nvitamins    0\nshelf       0\nweight      0\ncups        0\nrating      0\ndtype: int64"
     },
     "execution_count": 59,
     "metadata": {},
     "output_type": "execute_result"
    }
   ],
   "source": [
    "#checking which columns have missing values\n",
    "df.isnull().sum()"
   ]
  },
  {
   "cell_type": "code",
   "execution_count": 60,
   "id": "69794ef9",
   "metadata": {},
   "outputs": [],
   "source": [
    "# dropping missing values\n",
    "df = df.dropna(axis = 0)"
   ]
  },
  {
   "cell_type": "code",
   "execution_count": 61,
   "id": "a8eee2a5",
   "metadata": {},
   "outputs": [
    {
     "data": {
      "text/plain": "name        0\nmfr         0\ntype        0\ncalories    0\nprotein     0\nfat         0\nsodium      0\nfiber       0\ncarbo       0\nsugars      0\npotass      0\nvitamins    0\nshelf       0\nweight      0\ncups        0\nrating      0\ndtype: int64"
     },
     "execution_count": 61,
     "metadata": {},
     "output_type": "execute_result"
    }
   ],
   "source": [
    "#checking if missing values are dropped\n",
    "df.isnull().sum()"
   ]
  },
  {
   "cell_type": "code",
   "execution_count": 62,
   "id": "ee64ead6",
   "metadata": {},
   "outputs": [],
   "source": [
    "from sklearn.cluster import KMeans\n",
    "import numpy as np\n",
    "from sklearn import datasets\n",
    "import scipy.cluster.hierarchy as shc\n",
    "from sklearn.cluster import AgglomerativeClustering\n",
    "import matplotlib.pyplot as plt\n",
    "from sklearn.preprocessing import normalize"
   ]
  },
  {
   "cell_type": "code",
   "execution_count": 63,
   "id": "7cd298ef",
   "metadata": {},
   "outputs": [
    {
     "data": {
      "text/plain": "count     74.000000\nmean     107.027027\nstd       19.843893\nmin       50.000000\n25%      100.000000\n50%      110.000000\n75%      110.000000\nmax      160.000000\nName: calories, dtype: float64"
     },
     "execution_count": 63,
     "metadata": {},
     "output_type": "execute_result"
    }
   ],
   "source": [
    "df[\"calories\"].describe()\n"
   ]
  },
  {
   "cell_type": "code",
   "execution_count": 64,
   "id": "ed4b61fd",
   "metadata": {},
   "outputs": [
    {
     "data": {
      "text/plain": "Index(['name', 'mfr', 'type', 'calories', 'protein', 'fat', 'sodium', 'fiber',\n       'carbo', 'sugars', 'potass', 'vitamins', 'shelf', 'weight', 'cups',\n       'rating'],\n      dtype='object')"
     },
     "execution_count": 64,
     "metadata": {},
     "output_type": "execute_result"
    }
   ],
   "source": [
    "df.columns"
   ]
  },
  {
   "cell_type": "code",
   "execution_count": 65,
   "id": "37c09f47",
   "metadata": {},
   "outputs": [],
   "source": [
    "df_scaled = df.copy()"
   ]
  },
  {
   "cell_type": "code",
   "execution_count": 66,
   "id": "5b54834c",
   "metadata": {},
   "outputs": [
    {
     "data": {
      "text/plain": "                         name mfr type  vitamins  shelf\n0                   100%_Bran   N    C        25      3\n1           100%_Natural_Bran   Q    C         0      3\n2                    All-Bran   K    C        25      3\n3   All-Bran_with_Extra_Fiber   K    C        25      3\n5     Apple_Cinnamon_Cheerios   G    C        25      1\n..                        ...  ..  ...       ...    ...\n72                    Triples   G    C        25      3\n73                       Trix   G    C        25      2\n74                 Wheat_Chex   R    C        25      1\n75                   Wheaties   G    C        25      1\n76        Wheaties_Honey_Gold   G    C        25      1\n\n[74 rows x 5 columns]",
      "text/html": "<div>\n<style scoped>\n    .dataframe tbody tr th:only-of-type {\n        vertical-align: middle;\n    }\n\n    .dataframe tbody tr th {\n        vertical-align: top;\n    }\n\n    .dataframe thead th {\n        text-align: right;\n    }\n</style>\n<table border=\"1\" class=\"dataframe\">\n  <thead>\n    <tr style=\"text-align: right;\">\n      <th></th>\n      <th>name</th>\n      <th>mfr</th>\n      <th>type</th>\n      <th>vitamins</th>\n      <th>shelf</th>\n    </tr>\n  </thead>\n  <tbody>\n    <tr>\n      <th>0</th>\n      <td>100%_Bran</td>\n      <td>N</td>\n      <td>C</td>\n      <td>25</td>\n      <td>3</td>\n    </tr>\n    <tr>\n      <th>1</th>\n      <td>100%_Natural_Bran</td>\n      <td>Q</td>\n      <td>C</td>\n      <td>0</td>\n      <td>3</td>\n    </tr>\n    <tr>\n      <th>2</th>\n      <td>All-Bran</td>\n      <td>K</td>\n      <td>C</td>\n      <td>25</td>\n      <td>3</td>\n    </tr>\n    <tr>\n      <th>3</th>\n      <td>All-Bran_with_Extra_Fiber</td>\n      <td>K</td>\n      <td>C</td>\n      <td>25</td>\n      <td>3</td>\n    </tr>\n    <tr>\n      <th>5</th>\n      <td>Apple_Cinnamon_Cheerios</td>\n      <td>G</td>\n      <td>C</td>\n      <td>25</td>\n      <td>1</td>\n    </tr>\n    <tr>\n      <th>...</th>\n      <td>...</td>\n      <td>...</td>\n      <td>...</td>\n      <td>...</td>\n      <td>...</td>\n    </tr>\n    <tr>\n      <th>72</th>\n      <td>Triples</td>\n      <td>G</td>\n      <td>C</td>\n      <td>25</td>\n      <td>3</td>\n    </tr>\n    <tr>\n      <th>73</th>\n      <td>Trix</td>\n      <td>G</td>\n      <td>C</td>\n      <td>25</td>\n      <td>2</td>\n    </tr>\n    <tr>\n      <th>74</th>\n      <td>Wheat_Chex</td>\n      <td>R</td>\n      <td>C</td>\n      <td>25</td>\n      <td>1</td>\n    </tr>\n    <tr>\n      <th>75</th>\n      <td>Wheaties</td>\n      <td>G</td>\n      <td>C</td>\n      <td>25</td>\n      <td>1</td>\n    </tr>\n    <tr>\n      <th>76</th>\n      <td>Wheaties_Honey_Gold</td>\n      <td>G</td>\n      <td>C</td>\n      <td>25</td>\n      <td>1</td>\n    </tr>\n  </tbody>\n</table>\n<p>74 rows × 5 columns</p>\n</div>"
     },
     "execution_count": 66,
     "metadata": {},
     "output_type": "execute_result"
    }
   ],
   "source": [
    "df_with_non_norm_variables = df.drop(columns = ['calories', 'protein', 'fat', 'sodium', 'fiber','carbo', 'sugars', 'potass', 'weight', 'cups',\n",
    "       'rating'])\n",
    "\n",
    "df_with_non_norm_variables"
   ]
  },
  {
   "cell_type": "code",
   "execution_count": 67,
   "id": "62bd136c",
   "metadata": {},
   "outputs": [
    {
     "data": {
      "text/plain": "    calories  protein  fat  sodium  fiber  carbo  sugars  potass  weight  \\\n0         70        4    1     130   10.0    5.0     6.0   280.0     1.0   \n1        120        3    5      15    2.0    8.0     8.0   135.0     1.0   \n2         70        4    1     260    9.0    7.0     5.0   320.0     1.0   \n3         50        4    0     140   14.0    8.0     0.0   330.0     1.0   \n5        110        2    2     180    1.5   10.5    10.0    70.0     1.0   \n..       ...      ...  ...     ...    ...    ...     ...     ...     ...   \n72       110        2    1     250    0.0   21.0     3.0    60.0     1.0   \n73       110        1    1     140    0.0   13.0    12.0    25.0     1.0   \n74       100        3    1     230    3.0   17.0     3.0   115.0     1.0   \n75       100        3    1     200    3.0   17.0     3.0   110.0     1.0   \n76       110        2    1     200    1.0   16.0     8.0    60.0     1.0   \n\n    cups     rating  \n0   0.33  68.402973  \n1   1.00  33.983679  \n2   0.33  59.425505  \n3   0.50  93.704912  \n5   0.75  29.509541  \n..   ...        ...  \n72  0.75  39.106174  \n73  1.00  27.753301  \n74  0.67  49.787445  \n75  1.00  51.592193  \n76  0.75  36.187559  \n\n[74 rows x 11 columns]",
      "text/html": "<div>\n<style scoped>\n    .dataframe tbody tr th:only-of-type {\n        vertical-align: middle;\n    }\n\n    .dataframe tbody tr th {\n        vertical-align: top;\n    }\n\n    .dataframe thead th {\n        text-align: right;\n    }\n</style>\n<table border=\"1\" class=\"dataframe\">\n  <thead>\n    <tr style=\"text-align: right;\">\n      <th></th>\n      <th>calories</th>\n      <th>protein</th>\n      <th>fat</th>\n      <th>sodium</th>\n      <th>fiber</th>\n      <th>carbo</th>\n      <th>sugars</th>\n      <th>potass</th>\n      <th>weight</th>\n      <th>cups</th>\n      <th>rating</th>\n    </tr>\n  </thead>\n  <tbody>\n    <tr>\n      <th>0</th>\n      <td>70</td>\n      <td>4</td>\n      <td>1</td>\n      <td>130</td>\n      <td>10.0</td>\n      <td>5.0</td>\n      <td>6.0</td>\n      <td>280.0</td>\n      <td>1.0</td>\n      <td>0.33</td>\n      <td>68.402973</td>\n    </tr>\n    <tr>\n      <th>1</th>\n      <td>120</td>\n      <td>3</td>\n      <td>5</td>\n      <td>15</td>\n      <td>2.0</td>\n      <td>8.0</td>\n      <td>8.0</td>\n      <td>135.0</td>\n      <td>1.0</td>\n      <td>1.00</td>\n      <td>33.983679</td>\n    </tr>\n    <tr>\n      <th>2</th>\n      <td>70</td>\n      <td>4</td>\n      <td>1</td>\n      <td>260</td>\n      <td>9.0</td>\n      <td>7.0</td>\n      <td>5.0</td>\n      <td>320.0</td>\n      <td>1.0</td>\n      <td>0.33</td>\n      <td>59.425505</td>\n    </tr>\n    <tr>\n      <th>3</th>\n      <td>50</td>\n      <td>4</td>\n      <td>0</td>\n      <td>140</td>\n      <td>14.0</td>\n      <td>8.0</td>\n      <td>0.0</td>\n      <td>330.0</td>\n      <td>1.0</td>\n      <td>0.50</td>\n      <td>93.704912</td>\n    </tr>\n    <tr>\n      <th>5</th>\n      <td>110</td>\n      <td>2</td>\n      <td>2</td>\n      <td>180</td>\n      <td>1.5</td>\n      <td>10.5</td>\n      <td>10.0</td>\n      <td>70.0</td>\n      <td>1.0</td>\n      <td>0.75</td>\n      <td>29.509541</td>\n    </tr>\n    <tr>\n      <th>...</th>\n      <td>...</td>\n      <td>...</td>\n      <td>...</td>\n      <td>...</td>\n      <td>...</td>\n      <td>...</td>\n      <td>...</td>\n      <td>...</td>\n      <td>...</td>\n      <td>...</td>\n      <td>...</td>\n    </tr>\n    <tr>\n      <th>72</th>\n      <td>110</td>\n      <td>2</td>\n      <td>1</td>\n      <td>250</td>\n      <td>0.0</td>\n      <td>21.0</td>\n      <td>3.0</td>\n      <td>60.0</td>\n      <td>1.0</td>\n      <td>0.75</td>\n      <td>39.106174</td>\n    </tr>\n    <tr>\n      <th>73</th>\n      <td>110</td>\n      <td>1</td>\n      <td>1</td>\n      <td>140</td>\n      <td>0.0</td>\n      <td>13.0</td>\n      <td>12.0</td>\n      <td>25.0</td>\n      <td>1.0</td>\n      <td>1.00</td>\n      <td>27.753301</td>\n    </tr>\n    <tr>\n      <th>74</th>\n      <td>100</td>\n      <td>3</td>\n      <td>1</td>\n      <td>230</td>\n      <td>3.0</td>\n      <td>17.0</td>\n      <td>3.0</td>\n      <td>115.0</td>\n      <td>1.0</td>\n      <td>0.67</td>\n      <td>49.787445</td>\n    </tr>\n    <tr>\n      <th>75</th>\n      <td>100</td>\n      <td>3</td>\n      <td>1</td>\n      <td>200</td>\n      <td>3.0</td>\n      <td>17.0</td>\n      <td>3.0</td>\n      <td>110.0</td>\n      <td>1.0</td>\n      <td>1.00</td>\n      <td>51.592193</td>\n    </tr>\n    <tr>\n      <th>76</th>\n      <td>110</td>\n      <td>2</td>\n      <td>1</td>\n      <td>200</td>\n      <td>1.0</td>\n      <td>16.0</td>\n      <td>8.0</td>\n      <td>60.0</td>\n      <td>1.0</td>\n      <td>0.75</td>\n      <td>36.187559</td>\n    </tr>\n  </tbody>\n</table>\n<p>74 rows × 11 columns</p>\n</div>"
     },
     "execution_count": 67,
     "metadata": {},
     "output_type": "execute_result"
    }
   ],
   "source": [
    "\n",
    "#removing columns which do not require normalizing\n",
    "\n",
    "df_scaled = df_scaled.drop(columns = ['name', 'mfr', 'type', 'vitamins', 'shelf'])\n",
    "df_scaled"
   ]
  },
  {
   "cell_type": "code",
   "execution_count": 68,
   "id": "e84a20bc",
   "metadata": {},
   "outputs": [
    {
     "data": {
      "text/plain": "Index(['calories', 'protein', 'fat', 'sodium', 'fiber', 'carbo', 'sugars',\n       'potass', 'weight', 'cups', 'rating'],\n      dtype='object')"
     },
     "execution_count": 68,
     "metadata": {},
     "output_type": "execute_result"
    }
   ],
   "source": [
    "df_scaled.columns"
   ]
  },
  {
   "cell_type": "code",
   "execution_count": 69,
   "id": "1c90c912",
   "metadata": {},
   "outputs": [],
   "source": [
    "df_scaled['protein'] = (df_scaled['protein']- df_scaled['protein'].min()) / (df_scaled['protein'].max() - df_scaled['protein'].min()) "
   ]
  },
  {
   "cell_type": "code",
   "execution_count": 70,
   "id": "b9d14b90",
   "metadata": {},
   "outputs": [],
   "source": [
    "df_scaled['calories'] = (df_scaled['calories']- df_scaled['calories'].min()) / (df_scaled['calories'].max() - df_scaled['calories'].min()) "
   ]
  },
  {
   "cell_type": "code",
   "execution_count": 71,
   "id": "55e4ea7f",
   "metadata": {},
   "outputs": [],
   "source": [
    "df_scaled['fat'] = (df_scaled['fat']- df_scaled['fat'].min()) / (df_scaled['fat'].max() - df_scaled['fat'].min()) "
   ]
  },
  {
   "cell_type": "code",
   "execution_count": 72,
   "id": "1dee6f72",
   "metadata": {},
   "outputs": [],
   "source": [
    "df_scaled['sodium'] = (df_scaled['sodium']- df_scaled['sodium'].min()) / (df_scaled['sodium'].max() - df_scaled['sodium'].min()) "
   ]
  },
  {
   "cell_type": "code",
   "execution_count": 73,
   "id": "683cfa47",
   "metadata": {},
   "outputs": [],
   "source": [
    "df_scaled['fiber'] = (df_scaled['fiber']- df_scaled['fiber'].min()) / (df_scaled['fiber'].max() - df_scaled['fiber'].min()) "
   ]
  },
  {
   "cell_type": "code",
   "execution_count": 74,
   "id": "7b7cc217",
   "metadata": {},
   "outputs": [],
   "source": [
    "df_scaled['carbo'] = (df_scaled['carbo']- df_scaled['carbo'].min()) / (df_scaled['carbo'].max() - df_scaled['carbo'].min()) "
   ]
  },
  {
   "cell_type": "code",
   "execution_count": 75,
   "id": "34103e19",
   "metadata": {},
   "outputs": [],
   "source": [
    "df_scaled['sugars'] = (df_scaled['sugars']- df_scaled['sugars'].min()) / (df_scaled['sugars'].max() - df_scaled['sugars'].min()) "
   ]
  },
  {
   "cell_type": "code",
   "execution_count": 76,
   "id": "77fcfb77",
   "metadata": {},
   "outputs": [],
   "source": [
    "df_scaled['potass'] = (df_scaled['potass']- df_scaled['potass'].min()) / (df_scaled['potass'].max() - df_scaled['potass'].min()) "
   ]
  },
  {
   "cell_type": "code",
   "execution_count": 77,
   "id": "813934bd",
   "metadata": {},
   "outputs": [],
   "source": [
    "df_scaled['weight'] = (df_scaled['weight']- df_scaled['weight'].min()) / (df_scaled['weight'].max() - df_scaled['weight'].min()) "
   ]
  },
  {
   "cell_type": "code",
   "execution_count": 78,
   "id": "c7049221",
   "metadata": {},
   "outputs": [],
   "source": [
    "df_scaled['cups'] = (df_scaled['cups']- df_scaled['cups'].min()) / (df_scaled['cups'].max() - df_scaled['cups'].min()) "
   ]
  },
  {
   "cell_type": "code",
   "execution_count": 79,
   "id": "80d142e9",
   "metadata": {},
   "outputs": [],
   "source": [
    "df_scaled['rating'] = (df_scaled['rating']- df_scaled['rating'].min()) / (df_scaled['rating'].max() - df_scaled['rating'].min()) "
   ]
  },
  {
   "cell_type": "code",
   "execution_count": 80,
   "id": "67b68969",
   "metadata": {},
   "outputs": [
    {
     "data": {
      "text/plain": "   calories  protein  fat    sodium     fiber     carbo    sugars    potass  \\\n0  0.181818      0.6  0.2  0.406250  0.714286  0.000000  0.400000  0.841270   \n1  0.636364      0.4  1.0  0.046875  0.142857  0.166667  0.533333  0.380952   \n2  0.181818      0.6  0.2  0.812500  0.642857  0.111111  0.333333  0.968254   \n3  0.000000      0.6  0.0  0.437500  1.000000  0.166667  0.000000  1.000000   \n5  0.545455      0.2  0.4  0.562500  0.107143  0.305556  0.666667  0.174603   \n\n   weight   cups    rating  \n0     0.5  0.064  0.665593  \n1     0.5  0.600  0.210685  \n2     0.5  0.064  0.546941  \n3     0.5  0.200  1.000000  \n5     0.5  0.400  0.151551  ",
      "text/html": "<div>\n<style scoped>\n    .dataframe tbody tr th:only-of-type {\n        vertical-align: middle;\n    }\n\n    .dataframe tbody tr th {\n        vertical-align: top;\n    }\n\n    .dataframe thead th {\n        text-align: right;\n    }\n</style>\n<table border=\"1\" class=\"dataframe\">\n  <thead>\n    <tr style=\"text-align: right;\">\n      <th></th>\n      <th>calories</th>\n      <th>protein</th>\n      <th>fat</th>\n      <th>sodium</th>\n      <th>fiber</th>\n      <th>carbo</th>\n      <th>sugars</th>\n      <th>potass</th>\n      <th>weight</th>\n      <th>cups</th>\n      <th>rating</th>\n    </tr>\n  </thead>\n  <tbody>\n    <tr>\n      <th>0</th>\n      <td>0.181818</td>\n      <td>0.6</td>\n      <td>0.2</td>\n      <td>0.406250</td>\n      <td>0.714286</td>\n      <td>0.000000</td>\n      <td>0.400000</td>\n      <td>0.841270</td>\n      <td>0.5</td>\n      <td>0.064</td>\n      <td>0.665593</td>\n    </tr>\n    <tr>\n      <th>1</th>\n      <td>0.636364</td>\n      <td>0.4</td>\n      <td>1.0</td>\n      <td>0.046875</td>\n      <td>0.142857</td>\n      <td>0.166667</td>\n      <td>0.533333</td>\n      <td>0.380952</td>\n      <td>0.5</td>\n      <td>0.600</td>\n      <td>0.210685</td>\n    </tr>\n    <tr>\n      <th>2</th>\n      <td>0.181818</td>\n      <td>0.6</td>\n      <td>0.2</td>\n      <td>0.812500</td>\n      <td>0.642857</td>\n      <td>0.111111</td>\n      <td>0.333333</td>\n      <td>0.968254</td>\n      <td>0.5</td>\n      <td>0.064</td>\n      <td>0.546941</td>\n    </tr>\n    <tr>\n      <th>3</th>\n      <td>0.000000</td>\n      <td>0.6</td>\n      <td>0.0</td>\n      <td>0.437500</td>\n      <td>1.000000</td>\n      <td>0.166667</td>\n      <td>0.000000</td>\n      <td>1.000000</td>\n      <td>0.5</td>\n      <td>0.200</td>\n      <td>1.000000</td>\n    </tr>\n    <tr>\n      <th>5</th>\n      <td>0.545455</td>\n      <td>0.2</td>\n      <td>0.4</td>\n      <td>0.562500</td>\n      <td>0.107143</td>\n      <td>0.305556</td>\n      <td>0.666667</td>\n      <td>0.174603</td>\n      <td>0.5</td>\n      <td>0.400</td>\n      <td>0.151551</td>\n    </tr>\n  </tbody>\n</table>\n</div>"
     },
     "execution_count": 80,
     "metadata": {},
     "output_type": "execute_result"
    }
   ],
   "source": [
    "df_scaled.head()"
   ]
  },
  {
   "cell_type": "code",
   "execution_count": 81,
   "id": "4b81d60c",
   "metadata": {},
   "outputs": [
    {
     "data": {
      "text/plain": "<matplotlib.lines.Line2D at 0x19e32e5a580>"
     },
     "execution_count": 81,
     "metadata": {},
     "output_type": "execute_result"
    },
    {
     "data": {
      "text/plain": "<Figure size 1440x720 with 1 Axes>",
      "image/png": "[encoded data removed]"
     },
     "metadata": {
      "needs_background": "light"
     },
     "output_type": "display_data"
    }
   ],
   "source": [
    "#looking at the dendogram for normalized data usin g single method\n",
    "plt.figure(figsize=(20, 10))\n",
    "plt.title(\"Dendrogram for normalized data using single method\")\n",
    "dendrogram_with_single = shc.dendrogram(shc.linkage(df_scaled, method='single'))\n",
    "plt.axhline(y=6, color='b', linestyle='--')"
   ]
  },
  {
   "cell_type": "code",
   "execution_count": 82,
   "id": "ab6d26af",
   "metadata": {},
   "outputs": [],
   "source": [
    "#performing clustering with single method\n",
    "cluster_1 = AgglomerativeClustering(n_clusters=2, affinity='euclidean', linkage='single')\n",
    "clf_1 = cluster_1.fit_predict(df_scaled)"
   ]
  },
  {
   "cell_type": "code",
   "execution_count": 91,
   "id": "bd8c78df",
   "metadata": {},
   "outputs": [
    {
     "data": {
      "text/plain": "<Figure size 1440x720 with 1 Axes>",
      "image/png": "[encoded data removed]"
     },
     "metadata": {
      "needs_background": "light"
     },
     "output_type": "display_data"
    }
   ],
   "source": [
    "#looking at the dendogram for normalized data using complete method\n",
    "plt.figure(figsize=(20, 10))\n",
    "plt.title(\"Dendrograms for normalized data using complete method\")\n",
    "dendrogram_with_complete = shc.dendrogram(shc.linkage(df_scaled, method='complete'))\n",
    "plt.axhline(y=0.6, color='k', linestyle='--')\n",
    "plt.show()"
   ]
  },
  {
   "cell_type": "code",
   "execution_count": 84,
   "id": "296410e4",
   "metadata": {},
   "outputs": [],
   "source": [
    "#performing clustering using complete method\n",
    "cluster_2 = AgglomerativeClustering(n_clusters=2, affinity='euclidean', linkage='complete')\n",
    "clf_2 = cluster_2.fit_predict(df_scaled)"
   ]
  },
  {
   "cell_type": "code",
   "execution_count": 85,
   "id": "a7c922ce",
   "metadata": {},
   "outputs": [
    {
     "data": {
      "text/plain": "   calories   protein       fat    sodium     fiber     carbo    sugars  \\\n0  0.535211  0.290141  0.202817  0.505502  0.128773  0.559468  0.483568   \n1  0.121212  0.600000  0.133333  0.552083  0.785714  0.092593  0.244444   \n\n     potass    weight      cups    rating  \n0  0.236754  0.532113  0.472000  0.303971  \n1  0.936508  0.500000  0.109333  0.737511  ",
      "text/html": "<div>\n<style scoped>\n    .dataframe tbody tr th:only-of-type {\n        vertical-align: middle;\n    }\n\n    .dataframe tbody tr th {\n        vertical-align: top;\n    }\n\n    .dataframe thead th {\n        text-align: right;\n    }\n</style>\n<table border=\"1\" class=\"dataframe\">\n  <thead>\n    <tr style=\"text-align: right;\">\n      <th></th>\n      <th>calories</th>\n      <th>protein</th>\n      <th>fat</th>\n      <th>sodium</th>\n      <th>fiber</th>\n      <th>carbo</th>\n      <th>sugars</th>\n      <th>potass</th>\n      <th>weight</th>\n      <th>cups</th>\n      <th>rating</th>\n    </tr>\n  </thead>\n  <tbody>\n    <tr>\n      <th>0</th>\n      <td>0.535211</td>\n      <td>0.290141</td>\n      <td>0.202817</td>\n      <td>0.505502</td>\n      <td>0.128773</td>\n      <td>0.559468</td>\n      <td>0.483568</td>\n      <td>0.236754</td>\n      <td>0.532113</td>\n      <td>0.472000</td>\n      <td>0.303971</td>\n    </tr>\n    <tr>\n      <th>1</th>\n      <td>0.121212</td>\n      <td>0.600000</td>\n      <td>0.133333</td>\n      <td>0.552083</td>\n      <td>0.785714</td>\n      <td>0.092593</td>\n      <td>0.244444</td>\n      <td>0.936508</td>\n      <td>0.500000</td>\n      <td>0.109333</td>\n      <td>0.737511</td>\n    </tr>\n  </tbody>\n</table>\n</div>"
     },
     "execution_count": 85,
     "metadata": {},
     "output_type": "execute_result"
    }
   ],
   "source": [
    "#computing cluster-1 centriods\n",
    "df_scaled.groupby(clf_1).mean()\n"
   ]
  },
  {
   "cell_type": "code",
   "execution_count": 86,
   "id": "3d21fd42",
   "metadata": {},
   "outputs": [
    {
     "data": {
      "text/plain": "   calories   protein       fat    sodium     fiber     carbo    sugars  \\\n0  0.250000  0.366667  0.050000  0.141927  0.309524  0.453704  0.177778   \n1  0.570381  0.290323  0.229032  0.578125  0.125576  0.557348  0.531183   \n\n     potass    weight      cups    rating  \n0  0.414021  0.402500  0.386667  0.630198  \n1  0.236303  0.555645  0.470968  0.261809  ",
      "text/html": "<div>\n<style scoped>\n    .dataframe tbody tr th:only-of-type {\n        vertical-align: middle;\n    }\n\n    .dataframe tbody tr th {\n        vertical-align: top;\n    }\n\n    .dataframe thead th {\n        text-align: right;\n    }\n</style>\n<table border=\"1\" class=\"dataframe\">\n  <thead>\n    <tr style=\"text-align: right;\">\n      <th></th>\n      <th>calories</th>\n      <th>protein</th>\n      <th>fat</th>\n      <th>sodium</th>\n      <th>fiber</th>\n      <th>carbo</th>\n      <th>sugars</th>\n      <th>potass</th>\n      <th>weight</th>\n      <th>cups</th>\n      <th>rating</th>\n    </tr>\n  </thead>\n  <tbody>\n    <tr>\n      <th>0</th>\n      <td>0.250000</td>\n      <td>0.366667</td>\n      <td>0.050000</td>\n      <td>0.141927</td>\n      <td>0.309524</td>\n      <td>0.453704</td>\n      <td>0.177778</td>\n      <td>0.414021</td>\n      <td>0.402500</td>\n      <td>0.386667</td>\n      <td>0.630198</td>\n    </tr>\n    <tr>\n      <th>1</th>\n      <td>0.570381</td>\n      <td>0.290323</td>\n      <td>0.229032</td>\n      <td>0.578125</td>\n      <td>0.125576</td>\n      <td>0.557348</td>\n      <td>0.531183</td>\n      <td>0.236303</td>\n      <td>0.555645</td>\n      <td>0.470968</td>\n      <td>0.261809</td>\n    </tr>\n  </tbody>\n</table>\n</div>"
     },
     "execution_count": 86,
     "metadata": {},
     "output_type": "execute_result"
    }
   ],
   "source": [
    "#computing cluster-2 centriods\n",
    "df_scaled.groupby(clf_2).mean()"
   ]
  },
  {
   "cell_type": "code",
   "execution_count": 86,
   "id": "a8d5af2d",
   "metadata": {},
   "outputs": [],
   "source": []
  }
 ],
 "metadata": {
  "kernelspec": {
   "display_name": "Python 3 (ipykernel)",
   "language": "python",
   "name": "python3"
  },
  "language_info": {
   "codemirror_mode": {
    "name": "ipython",
    "version": 3
   },
   "file_extension": ".py",
   "mimetype": "text/x-python",
   "name": "python",
   "nbconvert_exporter": "python",
   "pygments_lexer": "ipython3",
   "version": "3.8.11"
  }
 },
 "nbformat": 4,
 "nbformat_minor": 5
}